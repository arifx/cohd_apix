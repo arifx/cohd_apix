{
 "metadata": {
  "language_info": {
   "codemirror_mode": {
    "name": "ipython",
    "version": 3
   },
   "file_extension": ".py",
   "mimetype": "text/x-python",
   "name": "python",
   "nbconvert_exporter": "python",
   "pygments_lexer": "ipython3",
   "version": "3.7.3-final"
  },
  "orig_nbformat": 2,
  "kernelspec": {
   "name": "python3",
   "display_name": "Python 3",
   "language": "python"
  }
 },
 "nbformat": 4,
 "nbformat_minor": 2,
 "cells": [
  {
   "cell_type": "code",
   "execution_count": 2,
   "metadata": {},
   "outputs": [
    {
     "output_type": "stream",
     "name": "stdout",
     "text": [
      "imports ok\n"
     ]
    }
   ],
   "source": [
    "# -*- coding: utf-8 -*-\n",
    "\n",
    "import numpy as np\n",
    "import pandas as pd \n",
    "from generate_omimembeddings import *\n",
    "print(\"imports ok\")\n",
    "\n",
    "\n"
   ]
  },
  {
   "source": [
    "a=1\n",
    "if a ==1:\n",
    "    \n",
    "    mce_matrix, mce_concept2id = load_mce(\"./data/glove_e30_5year_128.npy\", \"glove\",                             concept2id_path=\"./data/concept2id_condition_5yrs.pkl\")\n",
    "    omim_withemptyomop_df=pd.read_csv(\"./data/omim_withemptyomop.csv\")\n",
    "    print(\"All data loaded...\")\n",
    "    #omim_with_omopconceptids = add_omims_to_mce_matrix(omim_withemptyomop_table,mce_matrix,mce_concept2id)\n",
    "    # give coceptid get embedding\n",
    "    omoid=4173807\n",
    "    omid=231200\n",
    "    makeEmbeddingforOMOP(mce_matrix,omoid,mce_concept2id)\n",
    "    omoplist=get(omim_withemptyomop_df,omid)\n",
    "\n",
    "    \n",
    "    #calcAverageEmbedding(omoplist()) \n",
    "    #get_omimids_to_concept2id(omim_withemptyomop_table,mce_concept2id)\n",
    "\n",
    "# find concepts from\n",
    "\n",
    "\n",
    "\n"
   ],
   "cell_type": "code",
   "metadata": {},
   "execution_count": 72,
   "outputs": [
    {
     "output_type": "error",
     "ename": "Error",
     "evalue": "connect ECONNREFUSED 127.0.0.1:45211",
     "traceback": [
      "Error: connect ECONNREFUSED 127.0.0.1:45211",
      "at TCPConnectWrap.afterConnect [as oncomplete] (net.js:1134:16)"
     ]
    }
   ]
  },
  {
   "cell_type": "code",
   "execution_count": null,
   "metadata": {},
   "outputs": [],
   "source": []
  }
 ]
}