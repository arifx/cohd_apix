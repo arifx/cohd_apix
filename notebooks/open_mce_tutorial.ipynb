{
 "cells": [
  {
   "cell_type": "code",
   "execution_count": 1,
   "metadata": {},
   "outputs": [],
   "source": [
    "import numpy as np\n",
    "import gensim\n",
    "import pickle"
   ]
  },
  {
   "cell_type": "code",
   "execution_count": 3,
   "metadata": {},
   "outputs": [],
   "source": [
    "def load_data(pklfile):\n",
    "    f = open(pklfile, \"rb\")\n",
    "    mydata = pickle.load(f)\n",
    "    return mydata\n",
    "\n",
    "def build_dict(concept_list):\n",
    "    mydict = dict()\n",
    "\n",
    "    for idx, concept in enumerate(concept_list):\n",
    "        mydict[concept] = idx\n",
    "    \n",
    "    return mydict\n",
    "\n",
    "def load_mce(mce_data_path, data_format, concept2id_path=None):\n",
    "\n",
    "    if data_format in [\"glove\", \"skipgram\", \"svd\"]:\n",
    "        mce_matrix = np.load(mce_data_path)\n",
    "        if concept2id_path != None:\n",
    "            concept2id = load_data(concept2id_path)\n",
    "        else:\n",
    "            print(\"concept2id must be provided if data format is npy\")\n",
    "\n",
    "    elif data_format in [\"line\", \"node2vec\"]:\n",
    "        mce = gensim.models.KeyedVectors.load_word2vec_format(mce_data_path)\n",
    "        concept2id = build_dict(list(mce.vocab))\n",
    "\n",
    "        mce_matrix = np.zeros((len(concept2id), mce.vector_size))\n",
    "\n",
    "        for concept in list(concept2id.keys()):\n",
    "            mce_matrix[concept2id[concept]] = mce[concept]\n",
    "\n",
    "    return mce_matrix, concept2id"
   ]
  },
  {
   "cell_type": "code",
   "execution_count": 5,
   "metadata": {},
   "outputs": [],
   "source": [
    "mce_matrix, mce_concept2id = load_mce(\"~/glove_e30_5year_128.npy\", \"glove\",\n",
    "                                     concept2id_path=\"~/concept2id_condition_5yrs.pkl\")"
   ]
  },
  {
   "cell_type": "code",
   "execution_count": 6,
   "metadata": {},
   "outputs": [],
   "source": [
    "mce_matrix, mce_concept2id = load_mce(\"~/node2vec_aug_128.txt\", \"node2vec\")"
   ]
  }
 ],
 "metadata": {
  "kernelspec": {
   "display_name": "python3-workspace",
   "language": "python",
   "name": "python3-workspace"
  },
  "language_info": {
   "codemirror_mode": {
    "name": "ipython",
    "version": 3
   },
   "file_extension": ".py",
   "mimetype": "text/x-python",
   "name": "python",
   "nbconvert_exporter": "python",
   "pygments_lexer": "ipython3",
   "version": "3.6.9"
  }
 },
 "nbformat": 4,
 "nbformat_minor": 4
}
